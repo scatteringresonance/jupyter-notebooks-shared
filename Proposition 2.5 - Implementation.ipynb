{
 "cells": [
  {
   "cell_type": "markdown",
   "metadata": {},
   "source": [
    "## Proposition 2.5 - Implementation"
   ]
  },
  {
   "cell_type": "code",
   "execution_count": 60,
   "metadata": {},
   "outputs": [
    {
     "data": {
      "image/png": "[encoded data removed]",
      "text/plain": [
       "<Figure size 432x288 with 1 Axes>"
      ]
     },
     "metadata": {
      "needs_background": "light"
     },
     "output_type": "display_data"
    },
    {
     "name": "stdout",
     "output_type": "stream",
     "text": [
      "omega_res_exact:\n",
      "0.124994742562\n",
      " 0.062508472140\n",
      " 0.031249804694\n",
      " 0.015624149374\n",
      " 0.007812697649\n",
      " 0.003906223275\n",
      " 0.001953199399\n",
      " 0.000976562767\n",
      "\n",
      "omega_res:\n",
      "0.065998644729\n",
      " 0.035339397444\n",
      " 0.018858359550\n",
      " 0.010017336959\n",
      " 0.005294986689\n",
      " 0.002785083880\n",
      " 0.001458605693\n",
      " 0.000760872337\n",
      "\n"
     ]
    }
   ],
   "source": [
    "from math import log\n",
    "from math import sqrt\n",
    "from mpmath import pi\n",
    "import matplotlib.pyplot as plt\n",
    "import numpy as np\n",
    "import scipy\n",
    "from scipy.special import jv\n",
    "from scipy.optimize import brentq\n",
    "from sympy import sympify\n",
    "from sympy.core import S\n",
    "\n",
    "# Variables\n",
    "delta = 1\n",
    "eps_m = 1\n",
    "eps_c = 1\n",
    "tau = [38.4, 133.1, 464.5, 1636, 5819, 20902, 75731, 276574];\n",
    "mu_01 = 2.404825557695773\n",
    "lambda_01 = 5.783185962946785\n",
    "j_nrmlzn_01 = (delta*sqrt(pi*(jv(0,mu_01)**2 + jv(1,mu_01)**2)))**(-1)\n",
    "euler_gamma = S.EulerGamma.evalf(16)\n",
    "\n",
    "# Reference solution from mulitpole BIE formulation in MatLab\n",
    "omega_res_exact = [0.1249947425621660, \\\n",
    "                   0.0625084721400164, \\\n",
    "                   0.0312498046938617, \\\n",
    "                   0.0156241493737074, \\\n",
    "                   0.0078126976492044, \\\n",
    "                   0.0039062232753306, \\\n",
    "                   0.0019531993986338, \\\n",
    "                   0.0009765627668796]\n",
    "\n",
    "# Rootfinding function\n",
    "min = 0.00000001\n",
    "max = 0.2\n",
    "inc = 0.0001\n",
    "def omega_res_rootfind(omega_res, tau):\n",
    "    eg_omega_res = np.array(euler_gamma*omega_res,dtype=np.float64)\n",
    "    t_1 = 1\n",
    "    t_2 = omega_res**2*tau*eps_c\n",
    "    t_3_1 = np.log(eg_omega_res)\n",
    "    t_3_2 = -2*pi*(j_nrmlzn_01*delta/lambda_01*jv(1,mu_01))**2\n",
    "    t_4 = lambda_01\n",
    "    return t_1-t_2*(t_3_1*t_3_2+t_4);\n",
    "\n",
    "omega_res = []\n",
    "omega_res_err = []\n",
    "for ind, t in enumerate(tau):\n",
    "    omega_res.append(brentq(omega_res_rootfind, min, max, t))\n",
    "    omega_res_err.append(abs(omega_res_exact[ind]-omega_res[ind]))\n",
    "\n",
    "# Plot so we can be sure we are root finding in the right place\n",
    "if 1 == 0:\n",
    "    x = np.arange(min, max, inc)\n",
    "    omega_res_rootfind_x = omega_res_rootfind(x, tau[6])\n",
    "    \n",
    "    fig, ax = plt.subplots()\n",
    "    ax.plot(x, omega_res_rootfind_x)\n",
    "    ax.grid()\n",
    "    plt.show()\n",
    "    \n",
    "def omega_res_lin(omega_res):\n",
    "    return(omega_res)\n",
    "\n",
    "def omega_res_quad_log(omega_res):\n",
    "    return(5*abs(np.power(omega_res,2)*np.log(omega_res)))\n",
    "\n",
    "def omega_res_quad(omega_res):\n",
    "    return(12*np.power(omega_res,2))\n",
    "\n",
    "def omega_res_quart_log(omega_res):\n",
    "    return(900*abs(np.power(omega_res,4)*np.log(omega_res)))\n",
    "\n",
    "omega_res_lin_eval = omega_res_lin(omega_res)\n",
    "omega_res_quad_log_eval = omega_res_quad_log(omega_res)\n",
    "# omega_res_quad_eval = omega_res_quad(omega_res)\n",
    "omega_res_quart_log_eval = omega_res_quart_log(omega_res)\n",
    "\n",
    "fig, ax = plt.subplots()\n",
    "ax.plot(omega_res, omega_res_lin_eval, linestyle='--', label='$\\omega_{res}$')\n",
    "ax.plot(omega_res, omega_res_quad_log_eval, linestyle='--', label='$\\omega_{res}^2\\log(\\omega_{res})$')\n",
    "# ax.loglog(omega_res, omega_res_quad_eval, linestyle='--', label='$\\omega_{res}^2$')\n",
    "ax.loglog(omega_res, omega_res_quart_log_eval, linestyle='--', label='$\\omega_{res}^4\\log(\\omega_{res})$')\n",
    "ax.loglog(omega_res, omega_res_err, color='black', label='$err$')\n",
    "ax.grid()\n",
    "ax.legend()\n",
    "plt.show()    \n",
    "    \n",
    "print(\"omega_res_exact:\"); print(*[f\"{o:.12f}\\n\" for o in omega_res_exact])\n",
    "print(\"omega_res:\"); print(*[f\"{o:.12f}\\n\" for o in omega_res])\n"
   ]
  },
  {
   "cell_type": "markdown",
   "metadata": {},
   "source": [
    "test"
   ]
  },
  {
   "cell_type": "code",
   "execution_count": null,
   "metadata": {},
   "outputs": [],
   "source": []
  }
 ],
 "metadata": {
  "kernelspec": {
   "display_name": "Python 3",
   "language": "python",
   "name": "python3"
  }
 },
 "nbformat": 4,
 "nbformat_minor": 2
}
