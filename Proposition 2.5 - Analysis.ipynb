{
 "cells": [
  {
   "cell_type": "markdown",
   "metadata": {},
   "source": [
    "## Subwavelength resonant dielectric nanoparticles"
   ]
  },
  {
   "cell_type": "markdown",
   "metadata": {},
   "source": [
    "The sub-wavelength resonance problem for the particle $D$ is to find $\\omega\\in \\mathbb{C}$ such that\n",
    "$$\n",
    "(I - \\omega^2 \\tau \\varepsilon_c K_D^\\omega) [E](x) = 0,\n",
    "$$\n",
    "when $\\tau$ is large, with $K_D^\\omega$ given by\n",
    "$$\n",
    "L^2(D) \\ni E \\to K_D^\\omega[E] = - \\int_D E(y) \\Gamma_{k_m}(x-y) dy \\in L^2(D),\n",
    "$$\n",
    "where $k_m = \\sqrt{\\varepsilon_m}\\omega$ (((Take $\\varepsilon_m = 1$))) and\n",
    "$$\n",
    "\\Gamma_{k_m}(x-y) = \\Gamma_\\omega(x-y) = -\\frac{i}{4}H_0^{(1)}(\\omega|x-y|).\n",
    "$$"
   ]
  },
  {
   "cell_type": "markdown",
   "metadata": {},
   "source": [
    "### Expansion of $\\Gamma_\\omega(x-y)$"
   ]
  },
  {
   "cell_type": "markdown",
   "metadata": {},
   "source": [
    "We have\n",
    "$$\n",
    "H_0^{(1)}(s) = \\frac{2i}{\\pi}\\bigg(B_0(s) + B_1(s) + \\cdots\\bigg),\n",
    "$$\n",
    "where\n",
    "\\begin{align}\n",
    "B_0(s) & = \\log(\\gamma s), \\\\\n",
    "B_1(s) & = -\\frac{s^2}{4}(\\log(\\gamma s) - 1) = - \\frac{s^2}{4}\\log(\\gamma s) + \\frac{s^2}{4}.\n",
    "\\end{align}"
   ]
  },
  {
   "cell_type": "markdown",
   "metadata": {},
   "source": [
    "Evaluating at $s=\\omega|x-y|$ gives\n",
    "\\begin{align}\n",
    "B_0(\\omega|x-y|) & = \\log(\\gamma \\omega|x-y|) = \\log(\\gamma \\omega) + \\log|x-y|, \\\\\n",
    "B_1(\\omega|x-y|) & = - \\frac{(\\omega|x-y|)^2}{4}\\log(\\gamma \\omega|x-y|) + \\frac{(\\omega|x-y|)^2}{4}, \\\\\n",
    "& = - \\frac{(\\omega|x-y|)^2}{4}\\log(\\gamma \\omega) - \\frac{(\\omega|x-y|)^2}{4}\\log|x-y| + \\frac{(\\omega|x-y|)^2}{4}, \\\\\n",
    "& = - \\frac{1}{4}\\omega^2\\log(\\gamma \\omega)|x-y|^2 - \\frac{1}{4}\\omega^2|x-y|^2\\log|x-y| + \\frac{1}{4}\\omega^2|x-y|^2, \\\\\n",
    "& = - \\frac{1}{4}\\omega^2\\log(\\gamma \\omega)|x-y|^2 - \\frac{1}{4}\\omega^2|x-y|^2\\log|x-y| + \\frac{1}{4}\\omega^2|x-y|^2, \\\\\n",
    "& = - \\frac{1}{4}\\omega^2\\log(\\gamma \\omega)|x-y|^2 + O(\\omega^2).\n",
    "\\end{align}"
   ]
  },
  {
   "cell_type": "markdown",
   "metadata": {},
   "source": [
    "Therefore\n",
    "\\begin{align}\n",
    "-\\frac{i}{4}H_0^{(1)}(\\omega|x-y|) & = - \\frac{i}{4}\\frac{2i}{\\pi}\\bigg(B_0(\\omega|x-y|) + B_1(\\omega|x-y|) + \\cdots\\bigg), \\\\\n",
    "& = \\frac{1}{2\\pi}\\bigg(\\log(\\gamma \\omega) + \\log|x-y| - \\frac{1}{4}\\omega^2\\log(\\gamma \\omega)|x-y|^2\\bigg) + O(\\omega^2), \\\\\n",
    "& = \\frac{1}{2\\pi}\\log(\\gamma \\omega) + \\frac{1}{2\\pi}\\log|x-y| - \\frac{1}{8\\pi}\\omega^2\\log(\\gamma \\omega)|x-y|^2\\bigg) + O(\\omega^2),\n",
    "\\end{align}"
   ]
  },
  {
   "cell_type": "markdown",
   "metadata": {},
   "source": [
    "We expand $K_D^\\omega$ as\n",
    "$$\n",
    "K_D^\\omega[E] = \\log(\\gamma \\omega) \\hat{K}_D[E] + K_D^{(0)}[E] + \\omega^2\\log(\\gamma \\omega) K_D^{(2)}[E] + O(\\omega^2),\n",
    "$$\n",
    "where"
   ]
  },
  {
   "cell_type": "markdown",
   "metadata": {},
   "source": [
    "\\begin{align}\n",
    "\\hat{K}_D^\\omega[E](x) & = - \\frac{1}{2\\pi} \\int_D E(y) dy, \\\\\n",
    "K_D^{(0)}[E](x) & = - \\frac{1}{2\\pi}\\int_D E(y) \\log|x-y| dy, \\\\\n",
    "K_D^{(2)}[E](x) & = \\frac{1}{8\\pi}\\int_D|x-y|^2.\n",
    "\\end{align}"
   ]
  },
  {
   "cell_type": "markdown",
   "metadata": {},
   "source": [
    "Using this expansion our resonance problem of finding $\\omega \\in \\mathbb{C}$\n",
    "such that\n",
    "$$\n",
    "(I - \\omega^2 \\tau \\varepsilon_c K_D^\\omega) [E](x) = 0, \\quad E \\neq 0,\n",
    "$$\n",
    "becomes\n",
    "$$\n",
    "\\bigg(I - \\omega^2 \\tau \\varepsilon_c \\bigg(\\log(\\gamma \\omega) \\hat{K}_D + K_D^{(0)} + \\omega^2\\log(\\gamma \\omega) K_D^{(2)} + O(\\omega^2)\\bigg)\\bigg)[E](x) = 0, \\quad E \\neq 0.\n",
    "$$"
   ]
  },
  {
   "cell_type": "markdown",
   "metadata": {},
   "source": [
    "Let $\\lambda_{kj}$ be the set of eigenvalues of $K_D^{(0)}$ (((note sign convention))) with associated $L^2(D)$ normalized eigenfunctions $\\phi_{kj}$."
   ]
  },
  {
   "cell_type": "markdown",
   "metadata": {},
   "source": [
    "Expanding $E$ on $D$ as\n",
    "$$\n",
    "E = \\sum_{k,j} E_{kj} \\phi_{kj},\n",
    "$$\n",
    "and taking the inner product of our resonance problem with $\\phi_{01}$ gives\n",
    "$$\n",
    "1 - \\omega^2 \\tau \\varepsilon_c \\bigg(\\log(\\gamma \\omega) (\\hat{K}_D[\\phi_{01}],\\phi_{01}) + \\lambda_{01} + \\omega^2\\log(\\gamma \\omega) (K_D^{(2)}[\\phi_{01}],\\phi_{01})\\bigg) = O(\\omega^4).\n",
    "$$"
   ]
  },
  {
   "cell_type": "markdown",
   "metadata": {},
   "source": [
    "The second term can be refined giving\n",
    "$$\n",
    "1 - \\omega^2 \\tau \\varepsilon_c \\bigg(\\log(\\gamma \\omega) (-1) \\frac{1}{2\\pi}\\bigg(\\int_D \\phi_{01} \\bigg)^2 + \\lambda_{01} + \\omega^2\\log(\\gamma \\omega) (K_D^{(2)}[\\phi_{01}],\\phi_{01})\\bigg) = O(\\omega^4).\n",
    "$$"
   ]
  },
  {
   "cell_type": "markdown",
   "metadata": {},
   "source": [
    "Evaluating the integral on the left hand side we obtain\n",
    "\\begin{align}\n",
    "\\bigg(\\int_D u_{01} dy\\bigg)^2 & = \\bigg(\\int_0^\\delta \\int_{0}^{2\\pi} \\alpha_{01} J_0(\\mu_1^{(0)}\\frac{r}{\\delta}) r dr d\\varphi\\bigg)^2 \\\\\n",
    "& = \\bigg(2\\pi \\alpha_{01} \\frac{\\delta}{\\lambda_{01}} J_1(\\mu_1^{(0)})\\bigg)^2,\n",
    "\\end{align}\n",
    "where the normalization constant $\\alpha_{01}$ is given by\n",
    "$$\n",
    "\\alpha_{01} = \\bigg(\\delta \\sqrt{\\pi\\bigg(J_0(\\mu_1^{(0)})^2 + J_1(\\mu_1^{(0)})^2\\bigg)}\\bigg)^{-1}.\n",
    "$$"
   ]
  },
  {
   "cell_type": "markdown",
   "metadata": {},
   "source": [
    "If we only consider the first three term on left hand side of the resonance problem we obtain\n",
    "$$\n",
    "1 - \\omega^2 \\tau \\varepsilon_c \\bigg(\\log(\\gamma \\omega) (- 2\\pi)\\bigg(\\alpha_{01} \\frac{\\delta}{\\lambda_{01}} J_1(\\mu_1^{(0)}) \\bigg)^2 + \\lambda_{01}\\bigg) = O(\\omega^4\\log(\\gamma \\omega)).\n",
    "$$"
   ]
  },
  {
   "cell_type": "code",
   "execution_count": null,
   "metadata": {},
   "outputs": [],
   "source": []
  }
 ],
 "metadata": {
  "kernelspec": {
   "display_name": "Python 3",
   "language": "python",
   "name": "python3"
  },
  "language_info": {
   "codemirror_mode": {
    "name": "ipython",
    "version": 3
   },
   "file_extension": ".py",
   "mimetype": "text/x-python",
   "name": "python",
   "nbconvert_exporter": "python",
   "pygments_lexer": "ipython3",
   "version": "3.6.6"
  }
 },
 "nbformat": 4,
 "nbformat_minor": 2
}
